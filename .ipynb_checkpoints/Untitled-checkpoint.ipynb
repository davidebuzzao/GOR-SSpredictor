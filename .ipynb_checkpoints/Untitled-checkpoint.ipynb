{
 "cells": [
  {
   "cell_type": "code",
   "execution_count": 1,
   "metadata": {},
   "outputs": [],
   "source": [
    "import pandas as pd\n",
    "import seaborn as sns"
   ]
  },
  {
   "cell_type": "code",
   "execution_count": 2,
   "metadata": {},
   "outputs": [
    {
     "name": "stdout",
     "output_type": "stream",
     "text": [
      "  structure     MCC     ACC     TPR     PPV     FPR     NPV     SOV\n",
      "0         H  53.936  78.102  76.182  66.684  20.824  85.864  74.700\n",
      "1         E  45.306  80.244  61.508  54.972  14.408  88.628  65.162\n",
      "2         C  47.060  74.450  60.836  74.318  15.506  74.536  66.910\n"
     ]
    }
   ],
   "source": [
    "data = pd.read_csv(\"dataframe.csv\") \n",
    "print(data)"
   ]
  },
  {
   "cell_type": "code",
   "execution_count": 10,
   "metadata": {},
   "outputs": [
    {
     "name": "stdout",
     "output_type": "stream",
     "text": [
      "   structure score_type   score\n",
      "0          H        MCC  53.936\n",
      "1          E        MCC  45.306\n",
      "2          C        MCC  47.060\n",
      "3          H        ACC  78.102\n",
      "4          E        ACC  80.244\n",
      "5          C        ACC  74.450\n",
      "6          H        TPR  76.182\n",
      "7          E        TPR  61.508\n",
      "8          C        TPR  60.836\n",
      "9          H        PPV  66.684\n",
      "10         E        PPV  54.972\n",
      "11         C        PPV  74.318\n",
      "12         H        FPR  20.824\n",
      "13         E        FPR  14.408\n",
      "14         C        FPR  15.506\n",
      "15         H        NPV  85.864\n",
      "16         E        NPV  88.628\n",
      "17         C        NPV  74.536\n",
      "18         H        SOV  74.700\n",
      "19         E        SOV  65.162\n",
      "20         C        SOV  66.910\n"
     ]
    }
   ],
   "source": [
    "data2= pd.melt(data, id_vars=\"structure\", var_name=\"score_type\", value_name=\"score\")\n",
    "print(data2)"
   ]
  },
  {
   "cell_type": "code",
   "execution_count": 13,
   "metadata": {},
   "outputs": [
    {
     "data": {
      "text/plain": [
       "<seaborn.axisgrid.FacetGrid at 0x11edfa750>"
      ]
     },
     "execution_count": 13,
     "metadata": {},
     "output_type": "execute_result"
    },
    {
     "data": {
      "image/png": "[encoded data removed]",
      "text/plain": [
       "<Figure size 422.125x360 with 1 Axes>"
      ]
     },
     "metadata": {
      "needs_background": "light"
     },
     "output_type": "display_data"
    }
   ],
   "source": [
    "sns.catplot(x=\"SS\", y=\"%score\", hue=\"Score Type\", kind=\"bar\", data=data2)\n"
   ]
  },
  {
   "cell_type": "code",
   "execution_count": null,
   "metadata": {},
   "outputs": [],
   "source": []
  }
 ],
 "metadata": {
  "kernelspec": {
   "display_name": "Python 3",
   "language": "python",
   "name": "python3"
  },
  "language_info": {
   "codemirror_mode": {
    "name": "ipython",
    "version": 3
   },
   "file_extension": ".py",
   "mimetype": "text/x-python",
   "name": "python",
   "nbconvert_exporter": "python",
   "pygments_lexer": "ipython3",
   "version": "3.7.4"
  }
 },
 "nbformat": 4,
 "nbformat_minor": 2
}
